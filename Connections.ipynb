{
 "cells": [
  {
   "cell_type": "code",
   "execution_count": 1,
   "id": "e92f8aa9-1815-4745-975e-dbd16b28b726",
   "metadata": {},
   "outputs": [],
   "source": [
    "import mysql.connector as connector"
   ]
  },
  {
   "cell_type": "code",
   "execution_count": 5,
   "id": "52e11325-00fc-4567-8dfb-3fe0fa219228",
   "metadata": {},
   "outputs": [],
   "source": [
    "connection = connector.connect(user=\"local\",password=\"default\")"
   ]
  },
  {
   "cell_type": "code",
   "execution_count": 6,
   "id": "1fa10b9f-3076-40fa-8700-d82c2ebbd219",
   "metadata": {},
   "outputs": [],
   "source": [
    "cursor = connection.cursor()"
   ]
  },
  {
   "cell_type": "code",
   "execution_count": 7,
   "id": "6da321af-bbed-45c2-8fb8-6099358fb81a",
   "metadata": {},
   "outputs": [],
   "source": [
    "cursor.execute(\"use LittleLemonDB\")"
   ]
  },
  {
   "cell_type": "code",
   "execution_count": 13,
   "id": "2595a226-ec5b-4dd2-8f2c-aac35ed87fa9",
   "metadata": {},
   "outputs": [],
   "source": [
    "cursor.execute(\"show tables\")"
   ]
  },
  {
   "cell_type": "code",
   "execution_count": 14,
   "id": "d3e0dece-e834-42a5-9200-6070c8064d57",
   "metadata": {},
   "outputs": [
    {
     "name": "stdout",
     "output_type": "stream",
     "text": [
      "[('Bookings',), ('Customers',), ('Deliveries',), ('Employees',), ('Menu',), ('MenuItems',), ('Orders',), ('OrdersView',)]\n"
     ]
    }
   ],
   "source": [
    "print(cursor.fetchall())"
   ]
  },
  {
   "cell_type": "code",
   "execution_count": 8,
   "id": "9a1c878d-a639-4000-9478-4f66c7056c6e",
   "metadata": {},
   "outputs": [],
   "source": [
    "join_query = \"\"\"\n",
    "select C.CustomerId, concat(C.FirstName,' ',C.LastName) as Name, C.ContactNumber\n",
    "from Customers as C inner join Orders as O\n",
    "on C.CustomerId = O.OrderId\n",
    "where O.TotalCost > 60;\n",
    "\"\"\""
   ]
  },
  {
   "cell_type": "code",
   "execution_count": 9,
   "id": "b00692f7-536f-4782-931f-2ee757ecede0",
   "metadata": {},
   "outputs": [],
   "source": [
    "cursor.execute(join_query)"
   ]
  },
  {
   "cell_type": "code",
   "execution_count": 10,
   "id": "e41623d8-a6e9-48c2-a1aa-1a90b0a6f4b7",
   "metadata": {},
   "outputs": [],
   "source": [
    "results = cursor.fetchall()"
   ]
  },
  {
   "cell_type": "code",
   "execution_count": 11,
   "id": "1a808bd9-30f6-45c8-8cd2-59272c0c8304",
   "metadata": {},
   "outputs": [
    {
     "name": "stdout",
     "output_type": "stream",
     "text": [
      "('CustomerId', 'Name', 'ContactNumber')\n"
     ]
    }
   ],
   "source": [
    "print(cursor.column_names)"
   ]
  },
  {
   "cell_type": "code",
   "execution_count": 12,
   "id": "194caceb-c740-4252-9233-45af4e1bf322",
   "metadata": {},
   "outputs": [],
   "source": [
    "for i in results:\n",
    "    print(\"CustomerId: \"+i[0]+\"|Name: \"+i[1]+\"|Contact Number: \"+i[2])"
   ]
  }
 ],
 "metadata": {
  "kernelspec": {
   "display_name": "Python 3 (ipykernel)",
   "language": "python",
   "name": "python3"
  },
  "language_info": {
   "codemirror_mode": {
    "name": "ipython",
    "version": 3
   },
   "file_extension": ".py",
   "mimetype": "text/x-python",
   "name": "python",
   "nbconvert_exporter": "python",
   "pygments_lexer": "ipython3",
   "version": "3.10.12"
  }
 },
 "nbformat": 4,
 "nbformat_minor": 5
}
